{
 "cells": [
  {
   "cell_type": "code",
   "execution_count": 2,
   "id": "5cd398fb",
   "metadata": {},
   "outputs": [],
   "source": [
    "import nest_asyncio\n",
    "nest_asyncio.apply()\n",
    "\n",
    "from playwright.async_api import async_playwright\n",
    "import asyncio\n",
    "from bs4 import BeautifulSoup\n",
    "import json"
   ]
  },
  {
   "cell_type": "code",
   "execution_count": 3,
   "id": "b160a609",
   "metadata": {},
   "outputs": [],
   "source": [
    "from bs4 import BeautifulSoup\n",
    "from urllib.parse import urljoin, urlparse\n",
    "import json\n",
    "import asyncio\n",
    "from playwright.async_api import async_playwright\n",
    "import nest_asyncio\n",
    "nest_asyncio.apply()\n",
    "\n",
    "BASE_URL = \"https://www.drdo.gov.in/drdo/\"\n",
    "\n",
    "async def get_internal_links():\n",
    "    async with async_playwright() as p:\n",
    "        browser = await p.chromium.launch()\n",
    "        context = await browser.new_context()\n",
    "        page = await context.new_page()\n",
    "\n",
    "        await page.goto(BASE_URL)\n",
    "        await page.wait_for_selector(\"body\")\n",
    "        html = await page.content()\n",
    "        await browser.close()\n",
    "\n",
    "        soup = BeautifulSoup(html, \"html.parser\")\n",
    "        all_links = [urljoin(BASE_URL, a['href']) for a in soup.find_all(\"a\", href=True)]\n",
    "        \n",
    "        # Keep only internal DRDO links\n",
    "        internal_links = set()\n",
    "        for link in all_links:\n",
    "            if \"drdo.gov.in\" in urlparse(link).netloc:\n",
    "                internal_links.add(link.split(\"#\")[0])  # Remove anchor fragments\n",
    "\n",
    "        return list(internal_links)\n"
   ]
  },
  {
   "cell_type": "code",
   "execution_count": 4,
   "id": "41f771e5",
   "metadata": {},
   "outputs": [],
   "source": [
    "async def scrape_page(url, browser):\n",
    "    page = await browser.new_page()\n",
    "    try:\n",
    "        await page.goto(url, timeout=60000)\n",
    "        await page.wait_for_selector(\"body\", timeout=10000)\n",
    "        content = await page.content()\n",
    "        soup = BeautifulSoup(content, \"html.parser\")\n",
    "\n",
    "        page_data = {\n",
    "            \"url\": url,\n",
    "            \"title\": soup.title.string if soup.title else \"No title\",\n",
    "            \"headings\": {\n",
    "                \"h1\": [h.get_text(strip=True) for h in soup.find_all(\"h1\")],\n",
    "                \"h2\": [h.get_text(strip=True) for h in soup.find_all(\"h2\")],\n",
    "                \"h3\": [h.get_text(strip=True) for h in soup.find_all(\"h3\")]\n",
    "            },\n",
    "            \"links\": [\n",
    "                {\"text\": a.get_text(strip=True), \"href\": a['href']}\n",
    "                for a in soup.find_all(\"a\", href=True)\n",
    "            ]\n",
    "        }\n",
    "\n",
    "        await page.close()\n",
    "        return page_data\n",
    "\n",
    "    except Exception as e:\n",
    "        await page.close()\n",
    "        print(f\"Failed to scrape {url}: {e}\")\n",
    "        return {\"url\": url, \"error\": str(e)}\n"
   ]
  },
  {
   "cell_type": "code",
   "execution_count": 6,
   "id": "bf64df6e",
   "metadata": {},
   "outputs": [
    {
     "name": "stdout",
     "output_type": "stream",
     "text": [
      "Total records: 96\n",
      "{'url': 'https://www.drdo.gov.in/drdo/who-is-who', 'title': 'Who is Who | Defence Research and Development Organisation - DRDO, Ministry of Defence, Government of India', 'content': \"Feedback\\nSitemap\\nFAQs\\nUser account menu\\nLogin\\nSkip to Main Content\\nScreen Reader Access\\nEnglish\\nहिंदी\\n\\nHome\\nDRDO\\nOrganisation\\nOutreach\\nCareers\\nPublications\\nRTI\\nContact Us\\n\\nWho is Who\\nHome  DRDO  Who Is Who\\n\\nShri Rajnath Singh\\n\\nHon'ble Raksha Mantri\\n\\nView Profile\\n\\nShri Sanjay Seth\\n\\nHon'ble Raksha Rajya Mantri\\n\\nView Profile\\n\\nDr Samir V Kamat\\n\\nSecretary, Department of Defence R&D and Chairman, DRDO\\n\\nView Profile\\nDirectors General (Technical)\\nDirectors General (Corporate)\\nAdditional Financial Adviser\\nNodal Officer of DRDO\\n\\nDr B K Das\\n\\nDistinguished Scientist & Director General - Electronics & Communication Systems (ECS)\\n\\nView Profile\\n\\nShri Ummalaneni Raja Babu\\n\\nDistinguished Scientist & Director General - Missiles and Strategic Systems (MSS)\\n\\nView Profile\\n\\nMs Suma Varughese\\n\\nDistinguished Scientist & Director General - Micro Electronic Devices, Computational Systems & Cyber Systems (MED & CoS)\\n\\nView Profile\\n\\nDr Upendra Kumar Singh\\n\\nDistinguished Scientist & Director General - Soldier Suppo\"}\n"
     ]
    }
   ],
   "source": [
    "import json\n",
    "\n",
    "# Load the scraped data\n",
    "with open(\"drdo_data.json\", \"r\", encoding=\"utf-8\") as f:\n",
    "    data = json.load(f)\n",
    "\n",
    "print(f\"Total records: {len(data)}\")\n",
    "print(data[0])  # View one record"
   ]
  },
  {
   "cell_type": "code",
   "execution_count": 7,
   "id": "35c1dbd9",
   "metadata": {},
   "outputs": [],
   "source": [
    "import re\n",
    "\n",
    "def clean_text(text):\n",
    "    # Remove extra whitespace\n",
    "    text = re.sub(r\"\\s+\", \" \", text)\n",
    "    # Remove HTML tags (if any remain)\n",
    "    text = re.sub(r\"<.*?>\", \"\", text)\n",
    "    # Remove unwanted characters\n",
    "    text = re.sub(r\"[^\\x00-\\x7F]+\", \"\", text)  # Remove non-ASCII\n",
    "    return text.strip()\n",
    "\n",
    "# Apply cleaning to all entries\n",
    "for item in data:\n",
    "    item[\"cleaned_content\"] = clean_text(item[\"content\"])"
   ]
  },
  {
   "cell_type": "code",
   "execution_count": 8,
   "id": "b4e8d736",
   "metadata": {},
   "outputs": [
    {
     "name": "stdout",
     "output_type": "stream",
     "text": [
      "✅ Cleaned data saved to drdo_cleaned.json\n"
     ]
    }
   ],
   "source": [
    "with open(\"drdo_cleaned.json\", \"w\", encoding=\"utf-8\") as f:\n",
    "    json.dump(data, f, ensure_ascii=False, indent=2)\n",
    "\n",
    "print(\"✅ Cleaned data saved to drdo_cleaned.json\")"
   ]
  },
  {
   "cell_type": "markdown",
   "id": "77aaff2b",
   "metadata": {},
   "source": [
    "clean data Done!"
   ]
  },
  {
   "cell_type": "markdown",
   "id": "d6d37885",
   "metadata": {},
   "source": [
    "Now we will start embedding (vectorization)"
   ]
  },
  {
   "cell_type": "code",
   "execution_count": 9,
   "id": "b36f99b4",
   "metadata": {},
   "outputs": [],
   "source": [
    "import json\n",
    "\n",
    "# Load the cleaned DRDO data\n",
    "with open(\"drdo_cleaned.json\", \"r\", encoding=\"utf-8\") as f:\n",
    "    data = json.load(f)\n",
    "\n",
    "# Extract texts\n",
    "texts = [item[\"cleaned_content\"] for item in data]\n"
   ]
  },
  {
   "cell_type": "code",
   "execution_count": 10,
   "id": "360bcef0",
   "metadata": {},
   "outputs": [
    {
     "name": "stderr",
     "output_type": "stream",
     "text": [
      "c:\\Python312\\Lib\\site-packages\\tqdm\\auto.py:21: TqdmWarning: IProgress not found. Please update jupyter and ipywidgets. See https://ipywidgets.readthedocs.io/en/stable/user_install.html\n",
      "  from .autonotebook import tqdm as notebook_tqdm\n",
      "Batches: 100%|██████████| 3/3 [00:04<00:00,  1.64s/it]\n"
     ]
    }
   ],
   "source": [
    "from sentence_transformers import SentenceTransformer\n",
    "\n",
    "# Load the model\n",
    "model = SentenceTransformer(\"all-MiniLM-L6-v2\")\n",
    "\n",
    "# Generate embeddings\n",
    "embeddings = model.encode(texts, show_progress_bar=True)"
   ]
  },
  {
   "cell_type": "code",
   "execution_count": 11,
   "id": "3d0f23c5",
   "metadata": {},
   "outputs": [
    {
     "name": "stdout",
     "output_type": "stream",
     "text": [
      "Total vectors indexed: 96\n"
     ]
    }
   ],
   "source": [
    "import faiss\n",
    "import numpy as np\n",
    "\n",
    "embedding_array = np.array(embeddings).astype(\"float32\")\n",
    "\n",
    "index = faiss.IndexFlatL2(embedding_array.shape[1])\n",
    "index.add(embedding_array)\n",
    "\n",
    "print(\"Total vectors indexed:\", index.ntotal)"
   ]
  },
  {
   "cell_type": "code",
   "execution_count": 12,
   "id": "b711d722",
   "metadata": {},
   "outputs": [],
   "source": [
    "faiss.write_index(index, \"drdo_faiss.index\")\n",
    "\n",
    "metadata = [{\"title\": d[\"title\"], \"url\": d[\"url\"]} for d in data]\n",
    "with open(\"drdo_metadata.json\", \"w\", encoding=\"utf-8\") as f:\n",
    "    json.dump(metadata, f, indent=2, ensure_ascii=False)\n"
   ]
  },
  {
   "cell_type": "code",
   "execution_count": 13,
   "id": "bb38fe7a",
   "metadata": {},
   "outputs": [
    {
     "name": "stdout",
     "output_type": "stream",
     "text": [
      "🔎 Title: Missiles and Strategic Systems | DRDO\n",
      "🌐 URL: https://www.drdo.gov.in/drdo/technical-clusters/missiles-and-strategic-systems\n",
      "\n",
      "🔎 Title: Press Release | Defence Research and Development Organisation - DRDO, Ministry of Defence, Government of India\n",
      "🌐 URL: https://www.drdo.gov.in/drdo/press-release\n",
      "\n",
      "🔎 Title: Akash | Defence Research and Development Organisation - DRDO, Ministry of Defence, Government of India\n",
      "🌐 URL: https://www.drdo.gov.in/drdo/akash\n",
      "\n",
      "🔎 Title: BrahMos | Defence Research and Development Organisation - DRDO, Ministry of Defence, Government of India\n",
      "🌐 URL: https://www.drdo.gov.in/drdo/brahmos-0\n",
      "\n",
      "🔎 Title: DRDO & Indian Navy successfully flight-test indigenously-developed Vertically-Launched Short-Range Surface-to-Air Missile | Defence Research and Development Organisation - DRDO, Ministry of Defence, Government of India\n",
      "🌐 URL: https://www.drdo.gov.in/drdo/press-release/drdo-indian-navy-successfully-flight-test-indigenously-developed-vertically-launched\n",
      "\n"
     ]
    }
   ],
   "source": [
    "# Load saved data (if starting fresh)\n",
    "# index = faiss.read_index(\"drdo_faiss.index\")\n",
    "# with open(\"drdo_metadata.json\", \"r\", encoding=\"utf-8\") as f:\n",
    "#     metadata = json.load(f)\n",
    "\n",
    "def search_faiss(query, k=5):\n",
    "    query_vec = model.encode([query]).astype(\"float32\")\n",
    "    distances, indices = index.search(query_vec, k)\n",
    "    \n",
    "    for idx in indices[0]:\n",
    "        print(f\"🔎 Title: {metadata[idx]['title']}\")\n",
    "        print(f\"🌐 URL: {metadata[idx]['url']}\\n\")\n",
    "\n",
    "# Try it\n",
    "search_faiss(\"missile research\")\n"
   ]
  },
  {
   "cell_type": "code",
   "execution_count": 14,
   "id": "36c8f986",
   "metadata": {},
   "outputs": [],
   "source": [
    "import numpy as np\n",
    "import gc\n",
    "import torch\n",
    "import pickle\n",
    "import json\n",
    "from sentence_transformers import SentenceTransformer\n",
    "\n",
    "# Free up memory (useful if running multiple times)\n",
    "gc.collect()\n",
    "torch.cuda.empty_cache()"
   ]
  },
  {
   "cell_type": "code",
   "execution_count": 19,
   "id": "347b1bd7",
   "metadata": {},
   "outputs": [
    {
     "name": "stdout",
     "output_type": "stream",
     "text": [
      "Total entries in JSON: 96\n",
      "Sample entry: {'url': 'https://www.drdo.gov.in/drdo/who-is-who', 'title': 'Who is Who | Defence Research and Development Organisation - DRDO, Ministry of Defence, Government of India', 'content': \"Feedback\\nSitemap\\nFAQs\\nUser account menu\\nLogin\\nSkip to Main Content\\nScreen Reader Access\\nEnglish\\nहिंदी\\n\\nHome\\nDRDO\\nOrganisation\\nOutreach\\nCareers\\nPublications\\nRTI\\nContact Us\\n\\nWho is Who\\nHome  DRDO  Who Is Who\\n\\nShri Rajnath Singh\\n\\nHon'ble Raksha Mantri\\n\\nView Profile\\n\\nShri Sanjay Seth\\n\\nHon'ble Raksha Rajya Mantri\\n\\nView Profile\\n\\nDr Samir V Kamat\\n\\nSecretary, Department of Defence R&D and Chairman, DRDO\\n\\nView Profile\\nDirectors General (Technical)\\nDirectors General (Corporate)\\nAdditional Financial Adviser\\nNodal Officer of DRDO\\n\\nDr B K Das\\n\\nDistinguished Scientist & Director General - Electronics & Communication Systems (ECS)\\n\\nView Profile\\n\\nShri Ummalaneni Raja Babu\\n\\nDistinguished Scientist & Director General - Missiles and Strategic Systems (MSS)\\n\\nView Profile\\n\\nMs Suma Varughese\\n\\nDistinguished Scientist & Director General - Micro Electronic Devices, Computational Systems & Cyber Systems (MED & CoS)\\n\\nView Profile\\n\\nDr Upendra Kumar Singh\\n\\nDistinguished Scientist & Director General - Soldier Suppo\", 'cleaned_content': \"Feedback Sitemap FAQs User account menu Login Skip to Main Content Screen Reader Access English  Home DRDO Organisation Outreach Careers Publications RTI Contact Us Who is Who Home DRDO Who Is Who Shri Rajnath Singh Hon'ble Raksha Mantri View Profile Shri Sanjay Seth Hon'ble Raksha Rajya Mantri View Profile Dr Samir V Kamat Secretary, Department of Defence R&D and Chairman, DRDO View Profile Directors General (Technical) Directors General (Corporate) Additional Financial Adviser Nodal Officer of DRDO Dr B K Das Distinguished Scientist & Director General - Electronics & Communication Systems (ECS) View Profile Shri Ummalaneni Raja Babu Distinguished Scientist & Director General - Missiles and Strategic Systems (MSS) View Profile Ms Suma Varughese Distinguished Scientist & Director General - Micro Electronic Devices, Computational Systems & Cyber Systems (MED & CoS) View Profile Dr Upendra Kumar Singh Distinguished Scientist & Director General - Soldier Suppo\"}\n",
      "Extracted texts: 96\n",
      "First text: Feedback\n",
      "Sitemap\n",
      "FAQs\n",
      "User account menu\n",
      "Login\n",
      "Skip to Main Content\n",
      "Screen Reader Access\n",
      "English\n",
      "हिंदी\n",
      "\n",
      "Home\n",
      "DRDO\n",
      "Organisation\n",
      "Outreach\n",
      "Careers\n",
      "Publications\n",
      "RTI\n",
      "Contact Us\n",
      "\n",
      "Who is Who\n",
      "Home  DRDO  Who I ...\n",
      "✅ Embeddings saved to: C:\\Users\\hp123\\OneDrive\\Desktop\\DRDO1\\drdo_embeddings.pkl\n"
     ]
    }
   ],
   "source": [
    "\n",
    "import numpy as np\n",
    "import gc\n",
    "import torch\n",
    "import pickle\n",
    "import json\n",
    "from sentence_transformers import SentenceTransformer\n",
    "\n",
    "# 🔄 Clear memory\n",
    "gc.collect()\n",
    "torch.cuda.empty_cache()\n",
    "\n",
    "# ✅ Step 1: Load JSON file\n",
    "json_file_path = \"C:\\\\Users\\\\hp123\\\\OneDrive\\\\Desktop\\\\DRDO1\\\\drdo_cleaned.json\"\n",
    "\n",
    "with open(json_file_path, \"r\", encoding=\"utf-8\") as f:\n",
    "    drdo_data = json.load(f)  # drdo_data is a list\n",
    "\n",
    "# ✅ Step 2: Check structure and extract texts\n",
    "print(\"Total entries in JSON:\", len(drdo_data))\n",
    "print(\"Sample entry:\", drdo_data[0])\n",
    "\n",
    "# 👇 Update key if needed (e.g., \"text\", \"body\")\n",
    "texts = [entry[\"content\"] for entry in drdo_data if \"content\" in entry]\n",
    "\n",
    "print(\"Extracted texts:\", len(texts))\n",
    "print(\"First text:\", texts[0][:200], \"...\")\n",
    "\n",
    "# ✅ Step 3: Load embedding model\n",
    "model = SentenceTransformer(\"all-MiniLM-L6-v2\")  # Uses CPU by default\n",
    "\n",
    "# ✅ Step 4: Embed in small batches\n",
    "batch_size = 2\n",
    "embeddings_list = []\n",
    "\n",
    "for i in range(0, len(texts), batch_size):\n",
    "    batch = texts[i:i + batch_size]\n",
    "    batch_embeddings = model.encode(batch, convert_to_numpy=True)\n",
    "    embeddings_list.append(batch_embeddings)\n",
    "\n",
    "    # Free memory\n",
    "    gc.collect()\n",
    "    torch.cuda.empty_cache()\n",
    "\n",
    "# ✅ Step 5: Stack all batches into one final array\n",
    "if embeddings_list:\n",
    "    embeddings = np.vstack(embeddings_list)\n",
    "\n",
    "    # ✅ Step 6: Save embeddings\n",
    "    embedding_save_path = \"C:\\\\Users\\\\hp123\\\\OneDrive\\\\Desktop\\\\DRDO1\\\\drdo_embeddings.pkl\"\n",
    "\n",
    "    with open(embedding_save_path, \"wb\") as f:\n",
    "        pickle.dump(embeddings, f)\n",
    "\n",
    "    print(\"✅ Embeddings saved to:\", embedding_save_path)\n",
    "else:\n",
    "    print(\"⚠️ No embeddings created — check the 'texts' list.\")\n"
   ]
  },
  {
   "cell_type": "code",
   "execution_count": 20,
   "id": "85e62caa",
   "metadata": {},
   "outputs": [
    {
     "name": "stdout",
     "output_type": "stream",
     "text": [
      "✅ FAISS index created and saved to: C:\\Users\\hp123\\OneDrive\\Desktop\\DRDO1\\drdo_faiss.index\n"
     ]
    }
   ],
   "source": [
    "import faiss\n",
    "import numpy as np\n",
    "import pickle\n",
    "import os\n",
    "\n",
    "# ✅ Load your saved embeddings\n",
    "embedding_path = \"C:\\\\Users\\\\hp123\\\\OneDrive\\\\Desktop\\\\DRDO1\\\\drdo_embeddings.pkl\"\n",
    "with open(embedding_path, \"rb\") as f:\n",
    "    embeddings = pickle.load(f)\n",
    "\n",
    "# ✅ Convert to float32 (FAISS requirement)\n",
    "embeddings = embeddings.astype(\"float32\")\n",
    "\n",
    "# ✅ Create FAISS index (for cosine similarity use L2 with normalized vectors)\n",
    "faiss.normalize_L2(embeddings)\n",
    "dimension = embeddings.shape[1]\n",
    "index = faiss.IndexFlatIP(dimension)  # IP = Inner Product for cosine similarity\n",
    "\n",
    "# ✅ Add embeddings to index\n",
    "index.add(embeddings)\n",
    "\n",
    "# ✅ Save FAISS index (optional but recommended)\n",
    "faiss_index_path = \"C:\\\\Users\\\\hp123\\\\OneDrive\\\\Desktop\\\\DRDO1\\\\drdo_faiss.index\"\n",
    "faiss.write_index(index, faiss_index_path)\n",
    "\n",
    "print(\"✅ FAISS index created and saved to:\", faiss_index_path)\n"
   ]
  },
  {
   "cell_type": "code",
   "execution_count": 21,
   "id": "5fda0eed",
   "metadata": {},
   "outputs": [
    {
     "name": "stdout",
     "output_type": "stream",
     "text": [
      "🔎 Top results:\n",
      "\n",
      "Rank 1 | Score: 0.4198\n",
      "Feedback Sitemap FAQs User account menu Login Skip to Main Content Screen Reader Access English  Home DRDO Organisation Outreach Careers Publications RTI Contact Us E-Journal Services Home E Journal Services Home E-Journals E-Library List of Publishers Training/Webinars Organized SOP for Fair Use of E-Journals Contact Us About E-Journal Services The DRDO E-Journal Services came into being w.e.f. 01 January 2009. DRDO e-journal consortium facilitates sharing of resources and improving access to i\n",
      "--------------------------------------------------------------------------------\n",
      "Rank 2 | Score: 0.3496\n",
      "Feedback Sitemap FAQs User account menu Login Skip to Main Content Screen Reader Access English  Directorate Home About Directorate Director Roles & Responsibilities DIA-CoEs Formats Call for Proposal Governance Mechanism Information Industry Engagement Contact Us DRDO Industry Academia Centres of Excellence Home Corporate Directorates Directorate of Futuristic Technology Management (DFTM) Drdo Industry Academia Centres Of Excellence DRDO Industry Academia Centres of Excellence (DIA-CoEs) DFTM I\n",
      "--------------------------------------------------------------------------------\n",
      "Rank 3 | Score: 0.3473\n",
      "Feedback Sitemap FAQs User account menu Login Skip to Main Content Screen Reader Access English  Home DRDO Organisation Outreach Careers Publications RTI Contact Us FAQs Home Faqs Search your Query What is the full form of DRDO? DRDO stands for Defence Research & Development Organisation When was DRDO formed? How can I join DRDO? What are the pay scales of scientists/ technical cadre staff at various levels? How I can apply for JRF/SRF/RA/Apprentice Schemes in DRDO? What are various modes of ind\n",
      "--------------------------------------------------------------------------------\n"
     ]
    }
   ],
   "source": [
    "import faiss\n",
    "import pickle\n",
    "import json\n",
    "import numpy as np\n",
    "from sentence_transformers import SentenceTransformer\n",
    "\n",
    "# ✅ Load FAISS index\n",
    "faiss_index_path = \"C:\\\\Users\\\\hp123\\\\OneDrive\\\\Desktop\\\\DRDO1\\\\drdo_faiss.index\"\n",
    "index = faiss.read_index(faiss_index_path)\n",
    "\n",
    "# ✅ Load original cleaned data (again)\n",
    "json_file_path = \"C:\\\\Users\\\\hp123\\\\OneDrive\\\\Desktop\\\\DRDO1\\\\drdo_cleaned.json\"\n",
    "with open(json_file_path, \"r\", encoding=\"utf-8\") as f:\n",
    "    drdo_data = json.load(f)\n",
    "\n",
    "# ✅ Extract texts\n",
    "texts = [entry[\"cleaned_content\"] for entry in drdo_data]\n",
    "\n",
    "# ✅ Load the same model\n",
    "model = SentenceTransformer(\"all-MiniLM-L6-v2\")\n",
    "\n",
    "# 🔍 Your search query\n",
    "query = \"who is the current chairman of DRDO?\"\n",
    "\n",
    "# ✅ Embed and normalize the query\n",
    "query_embedding = model.encode([query], convert_to_numpy=True).astype(\"float32\")\n",
    "faiss.normalize_L2(query_embedding)\n",
    "\n",
    "# ✅ Perform search\n",
    "k = 3  # Number of top matches to return\n",
    "distances, indices = index.search(query_embedding, k)\n",
    "\n",
    "# ✅ Show results\n",
    "print(\"🔎 Top results:\\n\")\n",
    "for i, idx in enumerate(indices[0]):\n",
    "    print(f\"Rank {i+1} | Score: {distances[0][i]:.4f}\")\n",
    "    print(texts[idx][:500])  # Print first 500 characters of match\n",
    "    print(\"-\" * 80)\n"
   ]
  },
  {
   "cell_type": "markdown",
   "id": "6b68f863",
   "metadata": {},
   "source": [
    "responses"
   ]
  },
  {
   "cell_type": "code",
   "execution_count": null,
   "id": "70851171",
   "metadata": {},
   "outputs": [
    {
     "name": "stdout",
     "output_type": "stream",
     "text": [
      "The capital of France is Paris. It is one of the most famous cities in the world, known for its iconic landmarks such as the Eiffel Tower, Louvre Museum, and Notre-Dame Cathedral. Paris is also a global center for art, fashion, gastronomy, and culture.\n"
     ]
    }
   ],
   "source": [
    "import requests\n",
    "\n",
    "MISTRAL_API_KEY = \"3Kid2WgrFVgojoiZd3n0iYUodfM93o8B\"\n",
    "MISTRAL_ENDPOINT = \"https://api.mistral.ai/v1/chat/completions\"\n",
    "\n",
    "headers = {\n",
    "    \"Content-Type\": \"application/json\",\n",
    "    \"Authorization\": f\"Bearer {MISTRAL_API_KEY}\"\n",
    "}\n",
    "\n",
    "payload = {\n",
    "    \"model\": \"mistral-tiny\", \n",
    "    \"messages\": [\n",
    "        {\"role\": \"system\", \"content\": \"You are a helpful assistant.\"},\n",
    "        {\"role\": \"user\", \"content\": \"What is the capital of France?\"}\n",
    "    ]\n",
    "}\n",
    "\n",
    "try:\n",
    "    response = requests.post(MISTRAL_ENDPOINT, headers=headers, json=payload, timeout=10)\n",
    "    response.raise_for_status()\n",
    "    data = response.json()\n",
    "    print(data[\"choices\"][0][\"message\"][\"content\"])\n",
    "except requests.exceptions.Timeout:\n",
    "    print(\"Request timed out.\")\n",
    "except requests.exceptions.RequestException as e:\n",
    "    print(f\"Request failed: {e}\")\n"
   ]
  },
  {
   "cell_type": "code",
   "execution_count": 33,
   "id": "e6b28459",
   "metadata": {},
   "outputs": [
    {
     "name": "stdout",
     "output_type": "stream",
     "text": [
      "AI response: Correct! Paris is indeed the capital city of France. It is known for its iconic landmarks such as the Eiffel Tower, Louvre Museum, Notre-Dame Cathedral, and Champs-Élysées. Paris is also renowned for its rich history, art, culture, fashion, and cuisine. As a major global center for art, commerce, fashion, gastronomy, and culture, Paris is considered one of the world's most important and influential global cities.\n"
     ]
    }
   ],
   "source": [
    "import requests\n",
    "\n",
    "MISTRAL_API_KEY = \"3Kid2WgrFVgojoiZd3n0iYUodfM93o8B\"  # Replace with your real key\n",
    "MISTRAL_ENDPOINT = \"https://api.mistral.ai/v1/chat/completions\"\n",
    "\n",
    "headers = {\n",
    "    \"Content-Type\": \"application/json\",\n",
    "    \"Authorization\": f\"Bearer {MISTRAL_API_KEY}\"\n",
    "}\n",
    "\n",
    "payload = {\n",
    "    \"model\": \"mistral-medium\",  # You can also try \"mistral-medium\"\n",
    "    \"messages\": [\n",
    "        {\"role\": \"user\", \"content\": \"The capital of France is Paris.\"}\n",
    "    ]\n",
    "}\n",
    "\n",
    "response = requests.post(MISTRAL_ENDPOINT, headers=headers, json=payload)\n",
    "\n",
    "data = response.json()\n",
    "\n",
    "print(\"AI response:\", data[\"choices\"][0][\"message\"][\"content\"])\n"
   ]
  },
  {
   "cell_type": "code",
   "execution_count": 36,
   "id": "81613e3b",
   "metadata": {},
   "outputs": [
    {
     "name": "stdout",
     "output_type": "stream",
     "text": [
      "AI: DRDO (Defence Research and Development Organization) is the premier research and development organization of India, working under the administrative control of the Ministry of Defence. The purpose of DRDO is to develop advanced weapon systems and technologies for the Indian armed forces, in order to enhance their capabilities and ensure the nation's security. DRDO's mission is to empower India with cutting-edge defense technologies and ensure self-reliance in defense capabilities.\n",
      "\n",
      "DRDO's activities cover a wide range of areas, including aeronautics, armaments, electronics, combat vehicles, engineering systems, missiles, materials, naval systems, and life sciences. DRDO's research and development efforts are focused on meeting the defense needs of the country by providing state-of-the-art solutions to the armed forces. In addition to its defense-related activities, DRDO also contributes to the civilian sector by developing and transferring technologies for societal benefits.\n",
      "\n",
      "In summary, the purpose of DRDO is to develop advanced defense technologies and systems, ensure self-reliance in defense capabilities, and contribute to the overall development of the nation.\n"
     ]
    }
   ],
   "source": [
    "import requests\n",
    "\n",
    "MISTRAL_API_KEY = \"3Kid2WgrFVgojoiZd3n0iYUodfM93o8B\"\n",
    "MISTRAL_ENDPOINT = \"https://api.mistral.ai/v1/chat/completions\"\n",
    "\n",
    "headers = {\n",
    "    \"Authorization\": f\"Bearer {MISTRAL_API_KEY}\",\n",
    "    \"Content-Type\": \"application/json\"\n",
    "}\n",
    "\n",
    "payload = {\n",
    "    \"model\": \"mistral-small\",\n",
    "    \"messages\": [\n",
    "        {\"role\": \"user\", \"content\": \"what is the purpose of DRDO?\"}\n",
    "    ]\n",
    "}\n",
    "\n",
    "response = requests.post(MISTRAL_ENDPOINT, headers=headers, json=payload)\n",
    "\n",
    "data = response.json()\n",
    "print(\"AI:\", data[\"choices\"][0][\"message\"][\"content\"])"
   ]
  },
  {
   "cell_type": "code",
   "execution_count": null,
   "id": "945fd3a0",
   "metadata": {},
   "outputs": [
    {
     "name": "stdout",
     "output_type": "stream",
     "text": [
      "AI: DRDO stands for Defence Research and Development Organisation. It is an agency of the Government of India, charged with the military's research and development, headquartered in New Delhi, India. It was formed in 1958 by the merger of the Technical Development Establishment and the Directorate of Technical Development and Production with the Defence Science Organisation. It is under the administrative control of the Ministry of Defence, Government of India. Its vision is to empower India with cutting-edge defense technologies and a mission to achieve self-reliance in critical defense technologies and systems, while equipping the armed forces with state-of-the-art weaponry. The organization includes around 50 laboratories which are engaged in developing defense technologies covering various fields, such as aeronautics, armaments, electronics, land combat engineering, life sciences, materials, missiles, and naval systems. Some of the notable developments by DRDO include the Light Combat Aircraft (LCA) Tejas, the Akash surface-to-air missile system, the Arjun Main Battle Tank (MBT), and the Astra beyond-visual-range air-to-air missile.\n",
      "AI: The Defence Research and Development Organisation (DRDO) is one of India's largest and most diverse research organizations, with a network of around 50 laboratories and establishments located across the country. These laboratories are engaged in developing defense technologies covering various fields, such as aeronautics, armaments, electronics, land combat engineering, life sciences, materials, missiles, and naval systems. Each laboratory has a specific area of focus and expertise, and they work together to achieve self-reliance in critical defense technologies and systems, while equipping the armed forces with state-of-the-art weaponry. Some of the well-known laboratories of DRDO include the Aeronautical Development Agency (ADA), the Defence Research and Development Laboratory (DRDL), the Naval Science and Technological Laboratory (NSTL), and the Defence Electronics Research Laboratory (DLRL).\n",
      "\n",
      "Note: The exact number of labs may vary as DRDO continues to expand and reorganize its research network.\n",
      "AI: The Defence Research and Development Organisation (DRDO) is involved in a wide range of research and development projects related to defense technologies. Some of the key areas of focus for DRDO's projects are:\n",
      "\n",
      "1. Aeronautics: DRDO is involved in the design, development, and production of various aircraft, including fighter jets, helicopters, unmanned aerial vehicles (UAVs), and airborne early warning and control systems (AEW&C).\n",
      "2. Armaments: DRDO develops and produces a variety of armaments, including missiles, rockets, artillery systems, and small arms.\n",
      "3. Electronics: DRDO is involved in the development of various electronic systems for defense applications, including communication systems, radars, electronic warfare systems, and avionics.\n",
      "4. Land Combat Engineering: DRDO works on the development of various land combat systems, including armored vehicles, artillery systems, and engineering equipment.\n",
      "5. Life Sciences: DRDO conducts research in the areas of biotechnology, food technology, and medical sciences to support the defense forces.\n",
      "6. Materials: DRDO is involved in the development of advanced materials for defense applications, including composites, special alloys, and coatings.\n",
      "7. Missiles: DRDO is one of the world's leading developers of missile systems, including surface-to-surface missiles, surface-to-air missiles, and anti-tank missiles.\n",
      "8. Naval Systems: DRDO develops and produces various naval systems, including submarines, ships, and sonars.\n",
      "\n",
      "Some of the notable projects undertaken by DRDO include the Light Combat Aircraft (LCA) Tejas, the Akash surface-to-air missile system, the Arjun Main Battle Tank (MBT), and the Astra beyond-visual-range air-to-air missile.\n",
      "AI: The Defence Research and Development Organisation (DRDO) offers various job opportunities for freshers across different disciplines. Some of the common entry-level positions for freshers in DRDO are:\n",
      "\n",
      "1. Scientist 'B': This is the entry-level position for candidates with a Master's degree in Science or a Bachelor's degree in Engineering/Technology. The selection process for this position involves a written examination followed by an interview.\n",
      "2. Technician 'A': This position is for candidates with a diploma in Engineering/Technology or equivalent qualification. The selection process for this position involves a written examination and a trade test.\n",
      "3. Administrative Assistant 'A': This position is for candidates with a Bachelor's degree in any discipline. The selection process for this position involves a written examination and an interview.\n",
      "4. Junior Research Fellow (JRF): This position is for candidates who have completed their Master's degree in Science or a Bachelor's degree in Engineering/Technology and are interested in pursuing research in defense technologies.\n",
      "\n",
      "In addition to these positions, DRDO also offers internships and training programs for students who are pursuing their graduation or post-graduation in Science, Engineering, or Technology.\n",
      "\n",
      "It's important to note that the recruitment process for DRDO is highly competitive, and the selection criteria may vary depending on the position and the specific laboratory or establishment. It's recommended to regularly check DRDO's official website for updates on recruitment notifications and eligibility criteria.\n",
      "AI: You're welcome! If you have any other questions in the future, feel free to ask. Goodbye!\n",
      "AI: Goodbye! Have a great day!\n"
     ]
    }
   ],
   "source": [
    "import requests\n",
    "\n",
    "MISTRAL_API_KEY = \"3Kid2WgrFVgojoiZd3n0iYUodfM93o8B\"\n",
    "MISTRAL_ENDPOINT = \"https://api.mistral.ai/v1/chat/completions\"\n",
    "headers = {\n",
    "    \"Authorization\": f\"Bearer {MISTRAL_API_KEY}\",\n",
    "    \"Content-Type\": \"application/json\"\n",
    "}\n",
    "\n",
    "# Start with a system message\n",
    "messages = [{\"role\": \"system\", \"content\": \"You are a helpful assistant.\"}]\n",
    "\n",
    "while True:\n",
    "    user_input = input(\"You: \")\n",
    "    \n",
    "    if user_input.lower() in [\"exit\", \"quit\"]:\n",
    "        print(\"Chat ended.\")\n",
    "        break\n",
    "\n",
    "    messages.append({\"role\": \"user\", \"content\": user_input})\n",
    "\n",
    "    payload = {\n",
    "        \"model\": \"mistral-medium\", \n",
    "        \"messages\": messages\n",
    "    }\n",
    "\n",
    "    response = requests.post(MISTRAL_ENDPOINT, headers=headers, json=payload)\n",
    "    data = response.json()\n",
    "\n",
    "    ai_message = data[\"choices\"][0][\"message\"][\"content\"]\n",
    "    print(\"AI:\", ai_message)\n",
    "\n",
    "    # Add assistant's message to the history\n",
    "    messages.append({\"role\": \"assistant\", \"content\": ai_message})\n"
   ]
  },
  {
   "cell_type": "code",
   "execution_count": 1,
   "id": "f9cf29d2",
   "metadata": {},
   "outputs": [],
   "source": [
    "from pymongo import MongoClient\n",
    "\n",
    "# Connect to MongoDB\n",
    "client = MongoClient(\"mongodb://localhost:27017/\")  # Default connection URL\n",
    "db = client[\"chat_database\"]  # Create or access the database (you can name it as you like)\n",
    "collection = db[\"chat_messages\"]  # Create or access the collection (you can name it as you like)"
   ]
  },
  {
   "cell_type": "code",
   "execution_count": 3,
   "id": "a185eec0",
   "metadata": {},
   "outputs": [
    {
     "name": "stdout",
     "output_type": "stream",
     "text": [
      "AI: DRDO stands for Defence Research and Development Organisation. It is an agency of the Government of India, charged with the military's research and development, headquartered in New Delhi, India. It was formed in 1958 by the merger of the Technical Development Establishment and the Directorate of Technical Development and Production with the Defence Science Organisation. It is under the administrative control of the Ministry of Defence, Government of India. DRDO has a network of 52 laboratories which are engaged in developing defence technologies covering various fields, such as aeronautics, armaments, electronics, land combat engineering, life sciences, materials, missiles, and naval systems. The organization includes around 5,000 scientists belonging to the Defence Research & Development Service (DRDS) and about 25,000 other scientific, technical and supporting personnel.\n",
      "AI: DRDO has a network of 52 laboratories which are engaged in developing defence technologies covering various fields, such as aeronautics, armaments, electronics, land combat engineering, life sciences, materials, missiles, and naval systems. These laboratories are spread across India and are dedicated to research, design, development and testing of various defense systems and technologies. Some of the major DRDO labs include:\n",
      "\n",
      "* Aeronautical Development Agency (ADA)\n",
      "* Advanced Systems Laboratory (ASL)\n",
      "* Armament Research and Development Establishment (ARDE)\n",
      "* Centre for Airborne Systems (CABS)\n",
      "* Centre for Artificial Intelligence and Robotics (CAIR)\n",
      "* Centre for Fire, Explosive and Environment Safety (CFEES)\n",
      "* Defence Electronics Research Laboratory (DLRL)\n",
      "* Defence Materials and Stores Research and Development Establishment (DMSRDE)\n",
      "* Defence Research and Development Laboratory (DRDL)\n",
      "* Defence Science Centre (DSC)\n",
      "* High Energy Materials Research Laboratory (HEMRL)\n",
      "* Institute of Nuclear Medicine and Allied Sciences (INMAS)\n",
      "* Naval Materials Research Laboratory (NMRL)\n",
      "* Solid State Physics Laboratory (SSPL)\n",
      "\n",
      "And many more.\n",
      "\n",
      "Please note that the number of labs can change as DRDO may establish or close labs as per their requirement.\n",
      "AI: DRDO provides various opportunities for professionals to join their organization through their career page. The opportunities available can be broadly classified into the following categories:\n",
      "\n",
      "1. Scientist/Engineer 'B' (Entry level positions): DRDO recruits scientists and engineers in the 'B' level through the GATE (Graduate Aptitude Test in Engineering) score, UPSC (Union Public Service Commission) examination or direct recruitment.\n",
      "2. Technical Staff (Entry level positions): DRDO recruits technical staff in the areas of electronics, mechanical, computer science, and other fields through the GATE score or direct recruitment.\n",
      "3. Administrative Staff (Entry level positions): DRDO recruits administrative staff in the areas of finance, accounts, personnel, and general administration through direct recruitment.\n",
      "4. Experienced Professionals: DRDO invites applications from experienced professionals in various fields such as scientists, engineers, technologists, technicians, and administrators through open advertisements.\n",
      "5. Project Staff: DRDO also recruits project staff on a temporary basis for specific projects. These positions are open to both fresh graduates and experienced professionals.\n",
      "6. Internship: DRDO offers internship opportunities to students pursuing engineering, science, and management courses.\n",
      "\n",
      "You can check the DRDO career page for the latest updates on job openings, eligibility criteria, and application process.\n",
      "\n",
      "It's worth noting that the recruitment process and the opportunities available may change from time to time, so it's always best to check the official DRDO website for the most up-to-date information.\n",
      "\n",
      "Also, note that the recruitment process may include written exams, interviews, and/or skill tests, depending on the position. The eligibility criteria, such as educational qualifications and age limit, may also vary depending on the position.\n",
      "Chat ended.\n"
     ]
    }
   ],
   "source": [
    "import requests\n",
    "from pymongo import MongoClient\n",
    "\n",
    "MISTRAL_API_KEY = \"3Kid2WgrFVgojoiZd3n0iYUodfM93o8B\"\n",
    "MISTRAL_ENDPOINT = \"https://api.mistral.ai/v1/chat/completions\"\n",
    "\n",
    "# MongoDB setup\n",
    "client = MongoClient(\"mongodb://localhost:27017/\")  # Connect to MongoDB server\n",
    "db = client[\"chat_database\"]  # Create/access the database\n",
    "collection = db[\"chat_messages\"]  # Create/access the collection\n",
    "\n",
    "headers = {\n",
    "    \"Authorization\": f\"Bearer {MISTRAL_API_KEY}\",\n",
    "    \"Content-Type\": \"application/json\"\n",
    "}\n",
    "\n",
    "# Start with a system message\n",
    "messages = [{\"role\": \"system\", \"content\": \"You are a helpful assistant.\"}]\n",
    "\n",
    "while True:\n",
    "    user_input = input(\"You: \")\n",
    "    \n",
    "    if user_input.lower() in [\"exit\", \"quit\"]:\n",
    "        print(\"Chat ended.\")\n",
    "        break\n",
    "\n",
    "    messages.append({\"role\": \"user\", \"content\": user_input})\n",
    "\n",
    "    payload = {\n",
    "        \"model\": \"mistral-medium\",  # or whichever model you're using\n",
    "        \"messages\": messages\n",
    "    }\n",
    "\n",
    "    response = requests.post(MISTRAL_ENDPOINT, headers=headers, json=payload)\n",
    "    data = response.json()\n",
    "\n",
    "    ai_message = data[\"choices\"][0][\"message\"][\"content\"]\n",
    "    print(\"AI:\", ai_message)\n",
    "\n",
    "    # Add assistant's message to the history\n",
    "    messages.append({\"role\": \"assistant\", \"content\": ai_message})\n",
    "\n",
    "    # Store the conversation (both user and assistant messages) in MongoDB\n",
    "    chat_data = {\n",
    "        \"user_message\": user_input,\n",
    "        \"assistant_message\": ai_message,\n",
    "        \"timestamp\": data[\"created\"]  # You can add a timestamp or any other info if you like\n",
    "    }\n",
    "\n",
    "    # Insert chat data into the MongoDB collection\n",
    "    collection.insert_one(chat_data)\n"
   ]
  }
 ],
 "metadata": {
  "kernelspec": {
   "display_name": "Python 3",
   "language": "python",
   "name": "python3"
  },
  "language_info": {
   "codemirror_mode": {
    "name": "ipython",
    "version": 3
   },
   "file_extension": ".py",
   "mimetype": "text/x-python",
   "name": "python",
   "nbconvert_exporter": "python",
   "pygments_lexer": "ipython3",
   "version": "3.12.0"
  }
 },
 "nbformat": 4,
 "nbformat_minor": 5
}
